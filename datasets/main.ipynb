{
 "cells": [
  {
   "cell_type": "markdown",
   "metadata": {},
   "source": [
    "# Machine Learning Development project\n",
    "\n",
    "Mahamat HAMID & Yassine KADDAMI"
   ]
  },
  {
   "cell_type": "markdown",
   "metadata": {},
   "source": [
    "## I- Kidney Desease Dataset"
   ]
  },
  {
   "cell_type": "markdown",
   "metadata": {},
   "source": []
  },
  {
   "cell_type": "code",
   "execution_count": 19,
   "metadata": {},
   "outputs": [
    {
     "name": "stdout",
     "output_type": "stream",
     "text": [
      "al\n",
      "0.0    199\n",
      "1.0     44\n",
      "2.0     43\n",
      "3.0     43\n",
      "4.0     24\n",
      "5.0      1\n",
      "Name: count, dtype: int64\n",
      "354\n"
     ]
    },
    {
     "ename": "ValueError",
     "evalue": "could not convert string to float: ''",
     "output_type": "error",
     "traceback": [
      "\u001b[1;31m---------------------------------------------------------------------------\u001b[0m",
      "\u001b[1;31mValueError\u001b[0m                                Traceback (most recent call last)",
      "\u001b[1;32mc:\\Users\\kaddy\\Desktop\\ML project\\Development_project\\datasets\\main.ipynb Cell 4\u001b[0m line \u001b[0;36m7\n\u001b[0;32m      <a href='vscode-notebook-cell:/c%3A/Users/kaddy/Desktop/ML%20project/Development_project/datasets/main.ipynb#W3sZmlsZQ%3D%3D?line=4'>5</a>\u001b[0m kidney_df[\u001b[39m\"\u001b[39m\u001b[39mal\u001b[39m\u001b[39m\"\u001b[39m]\u001b[39m.\u001b[39msize\n\u001b[0;32m      <a href='vscode-notebook-cell:/c%3A/Users/kaddy/Desktop/ML%20project/Development_project/datasets/main.ipynb#W3sZmlsZQ%3D%3D?line=5'>6</a>\u001b[0m \u001b[39mprint\u001b[39m(\u001b[39msum\u001b[39m(deal_with_NA_values(kidney_df, \u001b[39m\"\u001b[39m\u001b[39mal\u001b[39m\u001b[39m\"\u001b[39m, \u001b[39m0.1\u001b[39m)))\n\u001b[1;32m----> <a href='vscode-notebook-cell:/c%3A/Users/kaddy/Desktop/ML%20project/Development_project/datasets/main.ipynb#W3sZmlsZQ%3D%3D?line=6'>7</a>\u001b[0m empty_values_count \u001b[39m=\u001b[39m (kidney_df[\u001b[39m'\u001b[39m\u001b[39mal\u001b[39m\u001b[39m'\u001b[39m] \u001b[39m==\u001b[39m\u001b[39mfloat\u001b[39m(\u001b[39m\"\u001b[39m\u001b[39m\"\u001b[39m) )\u001b[39m.\u001b[39msum()\n\u001b[0;32m      <a href='vscode-notebook-cell:/c%3A/Users/kaddy/Desktop/ML%20project/Development_project/datasets/main.ipynb#W3sZmlsZQ%3D%3D?line=7'>8</a>\u001b[0m \u001b[39mprint\u001b[39m(empty_values_count)\n",
      "\u001b[1;31mValueError\u001b[0m: could not convert string to float: ''"
     ]
    }
   ],
   "source": [
    "from utils import *\n",
    "\n",
    "kidney_df = pd.read_csv(\"kidney_disease.csv\")\n",
    "print(deal_with_NA_values(kidney_df, \"al\", 0.1))\n",
    "kidney_df[\"al\"].size\n",
    "print(sum(deal_with_NA_values(kidney_df, \"al\", 0.1)))\n",
    "empty_values_count = (kidney_df['al'] == ).sum()\n",
    "print(empty_values_count)\n",
    "\n"
   ]
  },
  {
   "cell_type": "code",
   "execution_count": null,
   "metadata": {},
   "outputs": [],
   "source": []
  }
 ],
 "metadata": {
  "kernelspec": {
   "display_name": "ML",
   "language": "python",
   "name": "python3"
  },
  "language_info": {
   "codemirror_mode": {
    "name": "ipython",
    "version": 3
   },
   "file_extension": ".py",
   "mimetype": "text/x-python",
   "name": "python",
   "nbconvert_exporter": "python",
   "pygments_lexer": "ipython3",
   "version": "3.11.5"
  }
 },
 "nbformat": 4,
 "nbformat_minor": 2
}
