{
 "cells": [
  {
   "cell_type": "markdown",
   "metadata": {},
   "source": [
    "# Machine Learning Development project\n",
    "\n",
    "Mahamat HAMID & Yassine KADDAMI"
   ]
  },
  {
   "cell_type": "markdown",
   "metadata": {},
   "source": [
    "## I- Kidney Desease Dataset"
   ]
  },
  {
   "cell_type": "markdown",
   "metadata": {},
   "source": [
    "Let's import and visualize the dataset"
   ]
  },
  {
   "cell_type": "code",
   "execution_count": 1,
   "metadata": {},
   "outputs": [
    {
     "data": {
      "text/html": [
       "<div>\n",
       "<style scoped>\n",
       "    .dataframe tbody tr th:only-of-type {\n",
       "        vertical-align: middle;\n",
       "    }\n",
       "\n",
       "    .dataframe tbody tr th {\n",
       "        vertical-align: top;\n",
       "    }\n",
       "\n",
       "    .dataframe thead th {\n",
       "        text-align: right;\n",
       "    }\n",
       "</style>\n",
       "<table border=\"1\" class=\"dataframe\">\n",
       "  <thead>\n",
       "    <tr style=\"text-align: right;\">\n",
       "      <th></th>\n",
       "      <th>id</th>\n",
       "      <th>age</th>\n",
       "      <th>bp</th>\n",
       "      <th>sg</th>\n",
       "      <th>al</th>\n",
       "      <th>su</th>\n",
       "      <th>rbc</th>\n",
       "      <th>pc</th>\n",
       "      <th>pcc</th>\n",
       "      <th>ba</th>\n",
       "      <th>...</th>\n",
       "      <th>pcv</th>\n",
       "      <th>wc</th>\n",
       "      <th>rc</th>\n",
       "      <th>htn</th>\n",
       "      <th>dm</th>\n",
       "      <th>cad</th>\n",
       "      <th>appet</th>\n",
       "      <th>pe</th>\n",
       "      <th>ane</th>\n",
       "      <th>classification</th>\n",
       "    </tr>\n",
       "  </thead>\n",
       "  <tbody>\n",
       "    <tr>\n",
       "      <th>0</th>\n",
       "      <td>0</td>\n",
       "      <td>48.0</td>\n",
       "      <td>80.0</td>\n",
       "      <td>1.020</td>\n",
       "      <td>1.0</td>\n",
       "      <td>0.0</td>\n",
       "      <td>NaN</td>\n",
       "      <td>normal</td>\n",
       "      <td>notpresent</td>\n",
       "      <td>notpresent</td>\n",
       "      <td>...</td>\n",
       "      <td>44</td>\n",
       "      <td>7800</td>\n",
       "      <td>5.2</td>\n",
       "      <td>yes</td>\n",
       "      <td>yes</td>\n",
       "      <td>no</td>\n",
       "      <td>good</td>\n",
       "      <td>no</td>\n",
       "      <td>no</td>\n",
       "      <td>ckd</td>\n",
       "    </tr>\n",
       "    <tr>\n",
       "      <th>1</th>\n",
       "      <td>1</td>\n",
       "      <td>7.0</td>\n",
       "      <td>50.0</td>\n",
       "      <td>1.020</td>\n",
       "      <td>4.0</td>\n",
       "      <td>0.0</td>\n",
       "      <td>NaN</td>\n",
       "      <td>normal</td>\n",
       "      <td>notpresent</td>\n",
       "      <td>notpresent</td>\n",
       "      <td>...</td>\n",
       "      <td>38</td>\n",
       "      <td>6000</td>\n",
       "      <td>NaN</td>\n",
       "      <td>no</td>\n",
       "      <td>no</td>\n",
       "      <td>no</td>\n",
       "      <td>good</td>\n",
       "      <td>no</td>\n",
       "      <td>no</td>\n",
       "      <td>ckd</td>\n",
       "    </tr>\n",
       "    <tr>\n",
       "      <th>2</th>\n",
       "      <td>2</td>\n",
       "      <td>62.0</td>\n",
       "      <td>80.0</td>\n",
       "      <td>1.010</td>\n",
       "      <td>2.0</td>\n",
       "      <td>3.0</td>\n",
       "      <td>normal</td>\n",
       "      <td>normal</td>\n",
       "      <td>notpresent</td>\n",
       "      <td>notpresent</td>\n",
       "      <td>...</td>\n",
       "      <td>31</td>\n",
       "      <td>7500</td>\n",
       "      <td>NaN</td>\n",
       "      <td>no</td>\n",
       "      <td>yes</td>\n",
       "      <td>no</td>\n",
       "      <td>poor</td>\n",
       "      <td>no</td>\n",
       "      <td>yes</td>\n",
       "      <td>ckd</td>\n",
       "    </tr>\n",
       "    <tr>\n",
       "      <th>3</th>\n",
       "      <td>3</td>\n",
       "      <td>48.0</td>\n",
       "      <td>70.0</td>\n",
       "      <td>1.005</td>\n",
       "      <td>4.0</td>\n",
       "      <td>0.0</td>\n",
       "      <td>normal</td>\n",
       "      <td>abnormal</td>\n",
       "      <td>present</td>\n",
       "      <td>notpresent</td>\n",
       "      <td>...</td>\n",
       "      <td>32</td>\n",
       "      <td>6700</td>\n",
       "      <td>3.9</td>\n",
       "      <td>yes</td>\n",
       "      <td>no</td>\n",
       "      <td>no</td>\n",
       "      <td>poor</td>\n",
       "      <td>yes</td>\n",
       "      <td>yes</td>\n",
       "      <td>ckd</td>\n",
       "    </tr>\n",
       "    <tr>\n",
       "      <th>4</th>\n",
       "      <td>4</td>\n",
       "      <td>51.0</td>\n",
       "      <td>80.0</td>\n",
       "      <td>1.010</td>\n",
       "      <td>2.0</td>\n",
       "      <td>0.0</td>\n",
       "      <td>normal</td>\n",
       "      <td>normal</td>\n",
       "      <td>notpresent</td>\n",
       "      <td>notpresent</td>\n",
       "      <td>...</td>\n",
       "      <td>35</td>\n",
       "      <td>7300</td>\n",
       "      <td>4.6</td>\n",
       "      <td>no</td>\n",
       "      <td>no</td>\n",
       "      <td>no</td>\n",
       "      <td>good</td>\n",
       "      <td>no</td>\n",
       "      <td>no</td>\n",
       "      <td>ckd</td>\n",
       "    </tr>\n",
       "  </tbody>\n",
       "</table>\n",
       "<p>5 rows × 26 columns</p>\n",
       "</div>"
      ],
      "text/plain": [
       "   id   age    bp     sg   al   su     rbc        pc         pcc          ba  \\\n",
       "0   0  48.0  80.0  1.020  1.0  0.0     NaN    normal  notpresent  notpresent   \n",
       "1   1   7.0  50.0  1.020  4.0  0.0     NaN    normal  notpresent  notpresent   \n",
       "2   2  62.0  80.0  1.010  2.0  3.0  normal    normal  notpresent  notpresent   \n",
       "3   3  48.0  70.0  1.005  4.0  0.0  normal  abnormal     present  notpresent   \n",
       "4   4  51.0  80.0  1.010  2.0  0.0  normal    normal  notpresent  notpresent   \n",
       "\n",
       "   ...  pcv    wc   rc  htn   dm  cad appet   pe  ane classification  \n",
       "0  ...   44  7800  5.2  yes  yes   no  good   no   no            ckd  \n",
       "1  ...   38  6000  NaN   no   no   no  good   no   no            ckd  \n",
       "2  ...   31  7500  NaN   no  yes   no  poor   no  yes            ckd  \n",
       "3  ...   32  6700  3.9  yes   no   no  poor  yes  yes            ckd  \n",
       "4  ...   35  7300  4.6   no   no   no  good   no   no            ckd  \n",
       "\n",
       "[5 rows x 26 columns]"
      ]
     },
     "execution_count": 1,
     "metadata": {},
     "output_type": "execute_result"
    }
   ],
   "source": [
    "from utils import *\n",
    "\n",
    "kidney_df = pd.read_csv(\"datasets\\kidney_disease.csv\")\n",
    "kidney_df.head()"
   ]
  },
  {
   "cell_type": "markdown",
   "metadata": {},
   "source": [
    "#### 1 - Data preprocessing and training preparation"
   ]
  },
  {
   "cell_type": "markdown",
   "metadata": {},
   "source": [
    "Here, we first **preprocess data**:\n",
    "* we convert data into its appropriate type\n",
    "* we clean the data by removing unusual carachters, and removing Nan values\n",
    "* we one_hot encode categorical features\n",
    "\n",
    "Then, we **prepare the preprocessed data for training**:\n",
    "* we split it into train ad test datasets\n",
    "* we normalize and handle the skewness of the datasets. We choosed to do this task here because it has to be done after data splitting to perform the same scaler, used on the train dataset, on the test dataset\n",
    "* We split train dataset for cross validation "
   ]
  },
  {
   "cell_type": "code",
   "execution_count": 2,
   "metadata": {},
   "outputs": [
    {
     "name": "stderr",
     "output_type": "stream",
     "text": [
      "c:\\Users\\kaddy\\anaconda3\\envs\\ML\\Lib\\site-packages\\sklearn\\preprocessing\\_encoders.py:868: FutureWarning: `sparse` was renamed to `sparse_output` in version 1.2 and will be removed in 1.4. `sparse_output` is ignored unless you leave `sparse` to its default value.\n",
      "  warnings.warn(\n"
     ]
    },
    {
     "data": {
      "text/html": [
       "<div>\n",
       "<style scoped>\n",
       "    .dataframe tbody tr th:only-of-type {\n",
       "        vertical-align: middle;\n",
       "    }\n",
       "\n",
       "    .dataframe tbody tr th {\n",
       "        vertical-align: top;\n",
       "    }\n",
       "\n",
       "    .dataframe thead th {\n",
       "        text-align: right;\n",
       "    }\n",
       "</style>\n",
       "<table border=\"1\" class=\"dataframe\">\n",
       "  <thead>\n",
       "    <tr style=\"text-align: right;\">\n",
       "      <th></th>\n",
       "      <th>age</th>\n",
       "      <th>bp</th>\n",
       "      <th>sg</th>\n",
       "      <th>al</th>\n",
       "      <th>su</th>\n",
       "      <th>pcc</th>\n",
       "      <th>ba</th>\n",
       "      <th>bgr</th>\n",
       "      <th>bu</th>\n",
       "      <th>sc</th>\n",
       "      <th>...</th>\n",
       "      <th>appet</th>\n",
       "      <th>pe</th>\n",
       "      <th>ane</th>\n",
       "      <th>classification</th>\n",
       "      <th>rbc_abnormal</th>\n",
       "      <th>rbc_normal</th>\n",
       "      <th>rbc_unknown</th>\n",
       "      <th>pc_abnormal</th>\n",
       "      <th>pc_normal</th>\n",
       "      <th>pc_unknown</th>\n",
       "    </tr>\n",
       "  </thead>\n",
       "  <tbody>\n",
       "    <tr>\n",
       "      <th>3</th>\n",
       "      <td>-0.167255</td>\n",
       "      <td>-0.440578</td>\n",
       "      <td>-2.294927</td>\n",
       "      <td>1.222441</td>\n",
       "      <td>-0.474048</td>\n",
       "      <td>1</td>\n",
       "      <td>0</td>\n",
       "      <td>-0.449452</td>\n",
       "      <td>0.012088</td>\n",
       "      <td>0.157880</td>\n",
       "      <td>...</td>\n",
       "      <td>1</td>\n",
       "      <td>1</td>\n",
       "      <td>1</td>\n",
       "      <td>0</td>\n",
       "      <td>0.0</td>\n",
       "      <td>1.0</td>\n",
       "      <td>0.0</td>\n",
       "      <td>1.0</td>\n",
       "      <td>0.0</td>\n",
       "      <td>0.0</td>\n",
       "    </tr>\n",
       "    <tr>\n",
       "      <th>18</th>\n",
       "      <td>0.524090</td>\n",
       "      <td>1.728422</td>\n",
       "      <td>1.391616</td>\n",
       "      <td>-1.569490</td>\n",
       "      <td>1.272284</td>\n",
       "      <td>0</td>\n",
       "      <td>0</td>\n",
       "      <td>1.535648</td>\n",
       "      <td>-0.872509</td>\n",
       "      <td>-0.343293</td>\n",
       "      <td>...</td>\n",
       "      <td>0</td>\n",
       "      <td>0</td>\n",
       "      <td>0</td>\n",
       "      <td>0</td>\n",
       "      <td>0.0</td>\n",
       "      <td>0.0</td>\n",
       "      <td>1.0</td>\n",
       "      <td>0.0</td>\n",
       "      <td>1.0</td>\n",
       "      <td>0.0</td>\n",
       "    </tr>\n",
       "    <tr>\n",
       "      <th>202</th>\n",
       "      <td>1.561109</td>\n",
       "      <td>-1.163578</td>\n",
       "      <td>-0.007808</td>\n",
       "      <td>0.004968</td>\n",
       "      <td>-0.474048</td>\n",
       "      <td>0</td>\n",
       "      <td>0</td>\n",
       "      <td>-0.490241</td>\n",
       "      <td>0.322817</td>\n",
       "      <td>0.004840</td>\n",
       "      <td>...</td>\n",
       "      <td>0</td>\n",
       "      <td>0</td>\n",
       "      <td>1</td>\n",
       "      <td>0</td>\n",
       "      <td>0.0</td>\n",
       "      <td>0.0</td>\n",
       "      <td>1.0</td>\n",
       "      <td>0.0</td>\n",
       "      <td>0.0</td>\n",
       "      <td>1.0</td>\n",
       "    </tr>\n",
       "    <tr>\n",
       "      <th>250</th>\n",
       "      <td>-0.628152</td>\n",
       "      <td>0.282422</td>\n",
       "      <td>1.391616</td>\n",
       "      <td>-1.569490</td>\n",
       "      <td>-0.474048</td>\n",
       "      <td>0</td>\n",
       "      <td>0</td>\n",
       "      <td>-0.136731</td>\n",
       "      <td>-2.665816</td>\n",
       "      <td>-0.369664</td>\n",
       "      <td>...</td>\n",
       "      <td>0</td>\n",
       "      <td>0</td>\n",
       "      <td>0</td>\n",
       "      <td>1</td>\n",
       "      <td>0.0</td>\n",
       "      <td>1.0</td>\n",
       "      <td>0.0</td>\n",
       "      <td>0.0</td>\n",
       "      <td>1.0</td>\n",
       "      <td>0.0</td>\n",
       "    </tr>\n",
       "    <tr>\n",
       "      <th>274</th>\n",
       "      <td>-1.838007</td>\n",
       "      <td>0.282422</td>\n",
       "      <td>0.469980</td>\n",
       "      <td>-1.569490</td>\n",
       "      <td>-0.474048</td>\n",
       "      <td>0</td>\n",
       "      <td>0</td>\n",
       "      <td>-0.585417</td>\n",
       "      <td>-1.090838</td>\n",
       "      <td>-0.513083</td>\n",
       "      <td>...</td>\n",
       "      <td>0</td>\n",
       "      <td>0</td>\n",
       "      <td>0</td>\n",
       "      <td>1</td>\n",
       "      <td>0.0</td>\n",
       "      <td>1.0</td>\n",
       "      <td>0.0</td>\n",
       "      <td>0.0</td>\n",
       "      <td>1.0</td>\n",
       "      <td>0.0</td>\n",
       "    </tr>\n",
       "  </tbody>\n",
       "</table>\n",
       "<p>5 rows × 29 columns</p>\n",
       "</div>"
      ],
      "text/plain": [
       "          age        bp        sg        al        su  pcc  ba       bgr  \\\n",
       "3   -0.167255 -0.440578 -2.294927  1.222441 -0.474048    1   0 -0.449452   \n",
       "18   0.524090  1.728422  1.391616 -1.569490  1.272284    0   0  1.535648   \n",
       "202  1.561109 -1.163578 -0.007808  0.004968 -0.474048    0   0 -0.490241   \n",
       "250 -0.628152  0.282422  1.391616 -1.569490 -0.474048    0   0 -0.136731   \n",
       "274 -1.838007  0.282422  0.469980 -1.569490 -0.474048    0   0 -0.585417   \n",
       "\n",
       "           bu        sc  ...  appet  pe  ane  classification  rbc_abnormal  \\\n",
       "3    0.012088  0.157880  ...      1   1    1               0           0.0   \n",
       "18  -0.872509 -0.343293  ...      0   0    0               0           0.0   \n",
       "202  0.322817  0.004840  ...      0   0    1               0           0.0   \n",
       "250 -2.665816 -0.369664  ...      0   0    0               1           0.0   \n",
       "274 -1.090838 -0.513083  ...      0   0    0               1           0.0   \n",
       "\n",
       "     rbc_normal  rbc_unknown  pc_abnormal  pc_normal  pc_unknown  \n",
       "3           1.0          0.0          1.0        0.0         0.0  \n",
       "18          0.0          1.0          0.0        1.0         0.0  \n",
       "202         0.0          1.0          0.0        0.0         1.0  \n",
       "250         1.0          0.0          0.0        1.0         0.0  \n",
       "274         1.0          0.0          0.0        1.0         0.0  \n",
       "\n",
       "[5 rows x 29 columns]"
      ]
     },
     "execution_count": 2,
     "metadata": {},
     "output_type": "execute_result"
    }
   ],
   "source": [
    "preprocessed_kd_df = preprocessing(kidney_df)\n",
    "train_kd_df, test_kd_df, cross_val_split_kd = prepare_for_training(preprocessed_kd_df)\n",
    "train_kd_df.head()"
   ]
  },
  {
   "cell_type": "markdown",
   "metadata": {},
   "source": [
    "#### 2 - Models training"
   ]
  },
  {
   "cell_type": "markdown",
   "metadata": {},
   "source": [
    "Here, we train models using 5 different binary classification methods. For each method, we use cross validation along with grid search to find best hyperparameters. For some of the methods we use L1 regularization for feature selection."
   ]
  },
  {
   "cell_type": "markdown",
   "metadata": {},
   "source": [
    "KNN model"
   ]
  },
  {
   "cell_type": "code",
   "execution_count": 3,
   "metadata": {},
   "outputs": [
    {
     "name": "stdout",
     "output_type": "stream",
     "text": [
      "Median cross validation score increased from -inf to 0.9823693164243736 with n_neighbors=1. Saving model... \n",
      "Median cross validation score increased from 0.9823693164243736 to 0.9836065573770492 with n_neighbors=2. Saving model... \n"
     ]
    }
   ],
   "source": [
    "Knn_trainer_kd = KNN_trainer()\n",
    "model_training(Knn_trainer_kd, train_kd_df, cross_val_split_kd, \"classification\")"
   ]
  },
  {
   "cell_type": "markdown",
   "metadata": {},
   "source": [
    "DecisionTree model"
   ]
  },
  {
   "cell_type": "code",
   "execution_count": 4,
   "metadata": {},
   "outputs": [
    {
     "name": "stdout",
     "output_type": "stream",
     "text": [
      "Median cross validation score increased from -inf to 0.8942797244684038 with max_depth=1. Saving model... \n",
      "Median cross validation score increased from 0.8942797244684038 to 0.9425058158856763 with max_depth=2. Saving model... \n"
     ]
    }
   ],
   "source": [
    "decisiontree_trainer_kd = DecisionTree_trainer()\n",
    "model_training(decisiontree_trainer_kd, train_kd_df, cross_val_split_kd, \"classification\")"
   ]
  },
  {
   "cell_type": "markdown",
   "metadata": {},
   "source": [
    "XGBoost model"
   ]
  },
  {
   "cell_type": "code",
   "execution_count": 5,
   "metadata": {},
   "outputs": [
    {
     "name": "stdout",
     "output_type": "stream",
     "text": [
      "Median cross validation score increased from -inf to 0.9905660377358491 with learning_rate=0.1, max_depth=3, n_estimators=50. Saving model... \n",
      "Median cross validation score increased from 0.9905660377358491 to 1.0 with learning_rate=0.1, max_depth=3, n_estimators=100. Saving model... \n"
     ]
    }
   ],
   "source": [
    "XG_boost_trainer_kd = XG_boost_trainer()\n",
    "model_training(XG_boost_trainer_kd, train_kd_df, cross_val_split_kd, \"classification\")"
   ]
  },
  {
   "cell_type": "markdown",
   "metadata": {},
   "source": [
    "Logistic Regression model"
   ]
  },
  {
   "cell_type": "code",
   "execution_count": 6,
   "metadata": {},
   "outputs": [
    {
     "name": "stdout",
     "output_type": "stream",
     "text": [
      "Median cross validation score increased from -inf to 1.0 with learning_rate=0.1, n_epochs=100, L1_regularization_coeff=0. Saving model... \n"
     ]
    }
   ],
   "source": [
    "input_size_kd = train_kd_df.shape[1]\n",
    "logistic_reg_trainer_kd = logistic_regression_trainer(input_size_kd - 1)\n",
    "model_training(logistic_reg_trainer_kd, train_kd_df,cross_val_split_kd,  \"classification\")"
   ]
  },
  {
   "cell_type": "markdown",
   "metadata": {},
   "source": [
    "MLP model"
   ]
  },
  {
   "cell_type": "code",
   "execution_count": 7,
   "metadata": {},
   "outputs": [
    {
     "name": "stdout",
     "output_type": "stream",
     "text": [
      "Median cross validation score increased from -inf to 1.0 with learning_rate=0.1, n_epochs=100, L1_regularization_coeff=0. Saving model... \n"
     ]
    }
   ],
   "source": [
    "MLP_trainer_kd = MLP_trainer(input_size_kd - 1)\n",
    "model_training(MLP_trainer_kd, train_kd_df,cross_val_split_kd,  \"classification\")"
   ]
  },
  {
   "cell_type": "markdown",
   "metadata": {},
   "source": [
    "#### 3- Models Testing"
   ]
  },
  {
   "cell_type": "markdown",
   "metadata": {},
   "source": [
    "Lets now test the different models and compare the results. We choose to use the F1 score to take into account recall and precision on the same time and avoid biases resulting from imbalanced data. "
   ]
  },
  {
   "cell_type": "code",
   "execution_count": 8,
   "metadata": {},
   "outputs": [
    {
     "name": "stdout",
     "output_type": "stream",
     "text": [
      "                     Test Score\n",
      "KNN                    0.962963\n",
      "Decision_Tree          0.982456\n",
      "XG_boost               0.982456\n",
      "Logistic Regression    0.987446\n",
      "MLP                    0.987446\n"
     ]
    },
    {
     "data": {
      "image/png": "[encoded data removed]",
      "text/plain": [
       "<Figure size 1000x600 with 1 Axes>"
      ]
     },
     "metadata": {},
     "output_type": "display_data"
    }
   ],
   "source": [
    "models_kd = [Knn_trainer_kd, decisiontree_trainer_kd, XG_boost_trainer_kd, logistic_reg_trainer_kd, MLP_trainer_kd]\n",
    "compare_results(models_kd, test_kd_df, \"classification\")"
   ]
  },
  {
   "cell_type": "markdown",
   "metadata": {},
   "source": [
    "We can see the best scores are obtained using the logistic regression method and the MLP method with a F1 score of 0.99. The KNN method doesn't seem to perform well on this dataset compared to other methods (score of 0.96). On the other hand, XG_boost and the decision tree algorithms have a similar performance (score of 0.98) which is close to the best score.\n",
    "\n",
    "We can explain that by the fact that KNN is very sensitive to noisy data and to sparse data compared to other methods due to its distance based nature. That why for this dataset where the data has multiple features it may be more difficult for KNN to achieve perfect scores.\n",
    "\n",
    "Furthermore, we can see that the MLP didn't perform well compared to Logistic regression, it shows that it didn't catch some non linearities relevant for making the decision."
   ]
  },
  {
   "cell_type": "markdown",
   "metadata": {},
   "source": [
    "I would have chosen the logistic regression method for this dataset due to its high score, the approximately linear nature of the boundary, and the simplicity of the algorithm compared to the MLP."
   ]
  },
  {
   "cell_type": "markdown",
   "metadata": {},
   "source": [
    "## II- Banknote Authentification Dataset"
   ]
  },
  {
   "cell_type": "markdown",
   "metadata": {},
   "source": [
    "Now lets test the same workflow using the same functions on the Banknote authentification dataset."
   ]
  },
  {
   "cell_type": "code",
   "execution_count": 9,
   "metadata": {},
   "outputs": [
    {
     "data": {
      "text/html": [
       "<div>\n",
       "<style scoped>\n",
       "    .dataframe tbody tr th:only-of-type {\n",
       "        vertical-align: middle;\n",
       "    }\n",
       "\n",
       "    .dataframe tbody tr th {\n",
       "        vertical-align: top;\n",
       "    }\n",
       "\n",
       "    .dataframe thead th {\n",
       "        text-align: right;\n",
       "    }\n",
       "</style>\n",
       "<table border=\"1\" class=\"dataframe\">\n",
       "  <thead>\n",
       "    <tr style=\"text-align: right;\">\n",
       "      <th></th>\n",
       "      <th>0</th>\n",
       "      <th>1</th>\n",
       "      <th>2</th>\n",
       "      <th>3</th>\n",
       "      <th>4</th>\n",
       "    </tr>\n",
       "  </thead>\n",
       "  <tbody>\n",
       "    <tr>\n",
       "      <th>0</th>\n",
       "      <td>3.62160</td>\n",
       "      <td>8.6661</td>\n",
       "      <td>-2.8073</td>\n",
       "      <td>-0.44699</td>\n",
       "      <td>0</td>\n",
       "    </tr>\n",
       "    <tr>\n",
       "      <th>1</th>\n",
       "      <td>4.54590</td>\n",
       "      <td>8.1674</td>\n",
       "      <td>-2.4586</td>\n",
       "      <td>-1.46210</td>\n",
       "      <td>0</td>\n",
       "    </tr>\n",
       "    <tr>\n",
       "      <th>2</th>\n",
       "      <td>3.86600</td>\n",
       "      <td>-2.6383</td>\n",
       "      <td>1.9242</td>\n",
       "      <td>0.10645</td>\n",
       "      <td>0</td>\n",
       "    </tr>\n",
       "    <tr>\n",
       "      <th>3</th>\n",
       "      <td>3.45660</td>\n",
       "      <td>9.5228</td>\n",
       "      <td>-4.0112</td>\n",
       "      <td>-3.59440</td>\n",
       "      <td>0</td>\n",
       "    </tr>\n",
       "    <tr>\n",
       "      <th>4</th>\n",
       "      <td>0.32924</td>\n",
       "      <td>-4.4552</td>\n",
       "      <td>4.5718</td>\n",
       "      <td>-0.98880</td>\n",
       "      <td>0</td>\n",
       "    </tr>\n",
       "  </tbody>\n",
       "</table>\n",
       "</div>"
      ],
      "text/plain": [
       "         0       1       2        3  4\n",
       "0  3.62160  8.6661 -2.8073 -0.44699  0\n",
       "1  4.54590  8.1674 -2.4586 -1.46210  0\n",
       "2  3.86600 -2.6383  1.9242  0.10645  0\n",
       "3  3.45660  9.5228 -4.0112 -3.59440  0\n",
       "4  0.32924 -4.4552  4.5718 -0.98880  0"
      ]
     },
     "execution_count": 9,
     "metadata": {},
     "output_type": "execute_result"
    }
   ],
   "source": [
    "banknote_df = pd.read_csv(\"datasets\\data_banknote_authentication.txt\", header=None)\n",
    "banknote_df.head()"
   ]
  },
  {
   "cell_type": "markdown",
   "metadata": {},
   "source": [
    "#### 1 - Data preprocessing and training preparation"
   ]
  },
  {
   "cell_type": "code",
   "execution_count": 18,
   "metadata": {},
   "outputs": [
    {
     "data": {
      "text/html": [
       "<div>\n",
       "<style scoped>\n",
       "    .dataframe tbody tr th:only-of-type {\n",
       "        vertical-align: middle;\n",
       "    }\n",
       "\n",
       "    .dataframe tbody tr th {\n",
       "        vertical-align: top;\n",
       "    }\n",
       "\n",
       "    .dataframe thead th {\n",
       "        text-align: right;\n",
       "    }\n",
       "</style>\n",
       "<table border=\"1\" class=\"dataframe\">\n",
       "  <thead>\n",
       "    <tr style=\"text-align: right;\">\n",
       "      <th></th>\n",
       "      <th>Feature1</th>\n",
       "      <th>Feature2</th>\n",
       "      <th>Feature3</th>\n",
       "      <th>Feature4</th>\n",
       "      <th>target</th>\n",
       "    </tr>\n",
       "  </thead>\n",
       "  <tbody>\n",
       "    <tr>\n",
       "      <th>529</th>\n",
       "      <td>-0.639156</td>\n",
       "      <td>1.805580</td>\n",
       "      <td>-0.188365</td>\n",
       "      <td>-3.050968</td>\n",
       "      <td>0</td>\n",
       "    </tr>\n",
       "    <tr>\n",
       "      <th>243</th>\n",
       "      <td>0.821889</td>\n",
       "      <td>0.852399</td>\n",
       "      <td>-0.594078</td>\n",
       "      <td>0.603455</td>\n",
       "      <td>0</td>\n",
       "    </tr>\n",
       "    <tr>\n",
       "      <th>1309</th>\n",
       "      <td>-1.657033</td>\n",
       "      <td>-1.633283</td>\n",
       "      <td>2.383862</td>\n",
       "      <td>-0.342355</td>\n",
       "      <td>1</td>\n",
       "    </tr>\n",
       "    <tr>\n",
       "      <th>664</th>\n",
       "      <td>1.728861</td>\n",
       "      <td>0.328631</td>\n",
       "      <td>-0.748077</td>\n",
       "      <td>1.084449</td>\n",
       "      <td>0</td>\n",
       "    </tr>\n",
       "    <tr>\n",
       "      <th>745</th>\n",
       "      <td>0.113973</td>\n",
       "      <td>0.205992</td>\n",
       "      <td>0.325092</td>\n",
       "      <td>0.534656</td>\n",
       "      <td>0</td>\n",
       "    </tr>\n",
       "  </tbody>\n",
       "</table>\n",
       "</div>"
      ],
      "text/plain": [
       "      Feature1  Feature2  Feature3  Feature4  target\n",
       "529  -0.639156  1.805580 -0.188365 -3.050968       0\n",
       "243   0.821889  0.852399 -0.594078  0.603455       0\n",
       "1309 -1.657033 -1.633283  2.383862 -0.342355       1\n",
       "664   1.728861  0.328631 -0.748077  1.084449       0\n",
       "745   0.113973  0.205992  0.325092  0.534656       0"
      ]
     },
     "execution_count": 18,
     "metadata": {},
     "output_type": "execute_result"
    }
   ],
   "source": [
    "banknote_preprocessed_df = preprocessing(banknote_df)\n",
    "train_banknote_df, test_banknote_df, cross_val_split_banknote = prepare_for_training(banknote_preprocessed_df)\n",
    "column_names = ['Feature1', 'Feature2', 'Feature3', 'Feature4', 'target']  # Replace with your column names\n",
    "train_banknote_df.columns = column_names\n",
    "test_banknote_df.columns = column_names\n",
    "train_banknote_df.head()"
   ]
  },
  {
   "cell_type": "markdown",
   "metadata": {},
   "source": [
    "#### 2 - Models training"
   ]
  },
  {
   "cell_type": "markdown",
   "metadata": {},
   "source": [
    "KNN model"
   ]
  },
  {
   "cell_type": "code",
   "execution_count": 11,
   "metadata": {},
   "outputs": [
    {
     "name": "stdout",
     "output_type": "stream",
     "text": [
      "Median cross validation score increased from -inf to 0.9979591836734694 with n_neighbors=1. Saving model... \n"
     ]
    }
   ],
   "source": [
    "Knn_trainer_bn = KNN_trainer()\n",
    "model_training(Knn_trainer_bn, train_banknote_df, cross_val_split_banknote, \"target\")"
   ]
  },
  {
   "cell_type": "markdown",
   "metadata": {},
   "source": [
    "DecisionTree model"
   ]
  },
  {
   "cell_type": "code",
   "execution_count": 12,
   "metadata": {},
   "outputs": [
    {
     "name": "stdout",
     "output_type": "stream",
     "text": [
      "Median cross validation score increased from -inf to 0.8571428571428572 with max_depth=1. Saving model... \n",
      "Median cross validation score increased from 0.8571428571428572 to 0.9089301503094607 with max_depth=2. Saving model... \n",
      "Median cross validation score increased from 0.9089301503094607 to 0.9319773793458004 with max_depth=3. Saving model... \n",
      "Median cross validation score increased from 0.9319773793458004 to 0.9561771561771562 with max_depth=4. Saving model... \n",
      "Median cross validation score increased from 0.9561771561771562 to 0.959221376866361 with max_depth=5. Saving model... \n",
      "Median cross validation score increased from 0.959221376866361 to 0.9739801508023458 with max_depth=6. Saving model... \n",
      "Median cross validation score increased from 0.9739801508023458 to 0.9760099401044985 with max_depth=9. Saving model... \n"
     ]
    }
   ],
   "source": [
    "decisiontree_trainer_bn = DecisionTree_trainer()\n",
    "model_training(decisiontree_trainer_bn, train_banknote_df, cross_val_split_banknote, \"target\")"
   ]
  },
  {
   "cell_type": "markdown",
   "metadata": {},
   "source": [
    "XGboost model"
   ]
  },
  {
   "cell_type": "code",
   "execution_count": 13,
   "metadata": {},
   "outputs": [
    {
     "name": "stdout",
     "output_type": "stream",
     "text": [
      "Median cross validation score increased from -inf to 0.9853905160390515 with learning_rate=0.1, max_depth=3, n_estimators=50. Saving model... \n",
      "Median cross validation score increased from 0.9853905160390515 to 0.9899880548220797 with learning_rate=0.1, max_depth=3, n_estimators=100. Saving model... \n",
      "Median cross validation score increased from 0.9899880548220797 to 0.9917478354978355 with learning_rate=0.1, max_depth=3, n_estimators=200. Saving model... \n",
      "Median cross validation score increased from 0.9917478354978355 to 0.9920798898071626 with learning_rate=0.1, max_depth=5, n_estimators=200. Saving model... \n"
     ]
    }
   ],
   "source": [
    "XG_boost_trainer_bn = XG_boost_trainer()\n",
    "model_training(XG_boost_trainer_bn, train_banknote_df, cross_val_split_banknote, \"target\")"
   ]
  },
  {
   "cell_type": "markdown",
   "metadata": {},
   "source": [
    "Logistic Regression model"
   ]
  },
  {
   "cell_type": "code",
   "execution_count": 14,
   "metadata": {},
   "outputs": [
    {
     "name": "stdout",
     "output_type": "stream",
     "text": [
      "Median cross validation score increased from -inf to 0.9872337503676896 with learning_rate=0.1, n_epochs=100, L1_regularization_coeff=0. Saving model... \n",
      "Median cross validation score increased from 0.9872337503676896 to 0.9890575704991673 with learning_rate=0.1, n_epochs=150, L1_regularization_coeff=0. Saving model... \n"
     ]
    }
   ],
   "source": [
    "input_size_bn = train_banknote_df.shape[1]\n",
    "logistic_reg_trainer_bn = logistic_regression_trainer(input_size_bn - 1)\n",
    "model_training(logistic_reg_trainer_bn, train_banknote_df,cross_val_split_banknote,  \"target\")"
   ]
  },
  {
   "cell_type": "markdown",
   "metadata": {},
   "source": [
    "MLP model"
   ]
  },
  {
   "cell_type": "code",
   "execution_count": 15,
   "metadata": {},
   "outputs": [
    {
     "name": "stdout",
     "output_type": "stream",
     "text": [
      "Median cross validation score increased from -inf to 1.0 with learning_rate=0.1, n_epochs=100, L1_regularization_coeff=0. Saving model... \n"
     ]
    }
   ],
   "source": [
    "MLP_trainer_bn = MLP_trainer(input_size_bn - 1)\n",
    "model_training(MLP_trainer_bn, train_banknote_df,cross_val_split_banknote,  \"target\")"
   ]
  },
  {
   "cell_type": "markdown",
   "metadata": {},
   "source": [
    "#### 3- Models Testing"
   ]
  },
  {
   "cell_type": "code",
   "execution_count": 21,
   "metadata": {},
   "outputs": [
    {
     "name": "stdout",
     "output_type": "stream",
     "text": [
      "                     Test Score\n",
      "KNN                    1.000000\n",
      "Decision_Tree          0.980080\n",
      "XG_boost               0.992063\n",
      "Logistic Regression    0.985455\n",
      "MLP                    1.000000\n"
     ]
    },
    {
     "data": {
      "image/png": "[encoded data removed]",
      "text/plain": [
       "<Figure size 1000x600 with 1 Axes>"
      ]
     },
     "metadata": {},
     "output_type": "display_data"
    }
   ],
   "source": [
    "models_bn = [Knn_trainer_bn, decisiontree_trainer_bn, XG_boost_trainer_bn, logistic_reg_trainer_bn, MLP_trainer_bn]\n",
    "compare_results(models_bn, test_banknote_df, \"target\")"
   ]
  },
  {
   "cell_type": "markdown",
   "metadata": {},
   "source": [
    "We can see that the KNN performed very well for this dataset along with the MLP method with a perfect f1 score of 1. The XG boost method comes 2nd with 0.99. The Decision Tree methods performed this time less than the Xg boost with a score of 0.98.\n",
    "\n",
    "We can explain these results by two main points:\n",
    "* The data banknote dataset is complicated and has more intricate boundaries compared to the kidney dataset , that's why the XG_boost performed better than Decisioon Trees on this dataset.\n",
    "* This time the linear assumption of logistic regression did'nt work as well as other models like KNN or MLP, which shows that the boundary this time is not linear and that there are more complex relationships to capture. It's also good to notice that the banknote dataset has very few features than the kidney dataset, that's why KNN have performed better in this case. \n",
    "\n",
    "According to the results, I would have chosen the KNN method for this dataset because it's way more simple than an MLP and its able to catch non linear relationships in this dataset."
   ]
  },
  {
   "cell_type": "markdown",
   "metadata": {},
   "source": [
    "### III- Good Programming Practices"
   ]
  },
  {
   "cell_type": "markdown",
   "metadata": {},
   "source": [
    "We adhered to **best practices** throughout our project, ensuring our code was **robust and maintainable**. With **Git**, we employed descriptive commit messages, enabling collaboration and providing a clear history of changes. Our code structure was modular: we used **object-oriented programming** with an abstract Trainer class that can be reused to try the workflow on a different binary classification method. Every function was well-documented, offering **clear descriptions**, argument details, and return value explanations. We also made sure to **facilitate code comprehension** by adding commentaries. We also included a **unit test**, verifying the correctness of the preprocess function. Moreover, we used **Anaconda** for environment management to ensure an **isolated environment** for our project. These practices collectively fortified the quality, readability, and reliability of our codebase."
   ]
  }
 ],
 "metadata": {
  "kernelspec": {
   "display_name": "ML",
   "language": "python",
   "name": "python3"
  },
  "language_info": {
   "codemirror_mode": {
    "name": "ipython",
    "version": 3
   },
   "file_extension": ".py",
   "mimetype": "text/x-python",
   "name": "python",
   "nbconvert_exporter": "python",
   "pygments_lexer": "ipython3",
   "version": "3.11.5"
  }
 },
 "nbformat": 4,
 "nbformat_minor": 2
}
